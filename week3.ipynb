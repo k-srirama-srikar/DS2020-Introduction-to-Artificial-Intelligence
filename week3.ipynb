{
 "cells": [
  {
   "cell_type": "markdown",
   "metadata": {},
   "source": [
    "## Week - 03"
   ]
  },
  {
   "cell_type": "markdown",
   "metadata": {},
   "source": [
    "### Day 05 - 21.01.2025"
   ]
  },
  {
   "cell_type": "markdown",
   "metadata": {},
   "source": [
    "More about heuristics...\n",
    "\n",
    "In order for the heuristic to be a proper one, $f$, where $f(n)=g(n)+h(n)$ has to be monotonic... \\\n",
    "$f(n):max{f(parent(n)), g(n)}+h(n)$ and $f(n)$ is path max correction... \\\n",
    "$h$ is monotonic if $h(n) \\le h(n') + c(n,a,n')$ \\\n",
    "If $h$ is monotonic, \\\n",
    "$f(n'):g(n')+h(n') = g(n)+h(n') + c(n,a,n') \\ge g(n) +h(n) = f(n)$ \\\n",
    "this will result f is monotonic along the path, i.e., if h is monotonic, then there's no need for path mx correction..."
   ]
  },
  {
   "cell_type": "markdown",
   "metadata": {},
   "source": [
    "for an optimal A* search \\\n",
    "Effective branching factor: 1+b* + b*^2 + ... + b*^d = N+1... we say that the A* search is efficient when b* is close to 1... and the heuristic defines the efficiency of the A* search "
   ]
  },
  {
   "cell_type": "markdown",
   "metadata": {},
   "source": [
    "Consideer the 8 tiles problem...\n",
    "\n",
    "h<sub>i</sub> : misplaced tiles, \\\n",
    "h<sub>r</sub> : manhattan distance ($|x_1 - x_2|+|y_1 - y_2|$) \\\n",
    "If $h_1(n) \\ge h_2(n) \\forall n$, here we say that $h_1$ is a dominant heuristic as $h_2$ expands more nodes than $h_1$ \\\n",
    "This is  in a generic sense but not forn this case... here $h_2 \\ge h_1$\n",
    "\n"
   ]
  },
  {
   "cell_type": "markdown",
   "metadata": {},
   "source": [
    "Now the question comes how do we generate these heuristics? \\\n",
    "For a siple heuristic, generation takes less time and searching requires a lot and the opposite for h* \\\n",
    "This is the reason we use something called pattern databases... \\\n",
    "We create a databases of samller problems with the solutions of the exact cost of solving it... \\\n",
    "Then we store these subproblem... and once we do the larger problem when we reach a particular configuration we do a look up from the database and then the heuristic is the subproblem"
   ]
  },
  {
   "cell_type": "markdown",
   "metadata": {},
   "source": [
    "Iterative deepening A* search: \\\n",
    "A* is only a threshold for the dfs..."
   ]
  },
  {
   "cell_type": "markdown",
   "metadata": {},
   "source": [
    "> Lab 1: \\\n",
    "> We are in a 4x4 grid.... some of the grids have walls \\\n",
    "> we have gold in some places and there is an exit state \\\n",
    "> there's a seq to pick up gold... all he knows if to go and pick up gold at (i,j) \\\n",
    "> Now the moment it reaches the goal, it knows about the next goal state and finally the exit state \\\n",
    "> Solution must essentially be all the paths..\n",
    "> TO DO: \\\n",
    "> We need to write the child gen function that takes the pos and gives the children \\\n",
    ">  Goal test function: implement bfs, dfs using only a list\n",
    "> in case there's no solution it should output the same"
   ]
  }
 ],
 "metadata": {
  "language_info": {
   "name": "python"
  }
 },
 "nbformat": 4,
 "nbformat_minor": 2
}
