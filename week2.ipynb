{
 "cells": [
  {
   "cell_type": "markdown",
   "metadata": {},
   "source": [
    "# Week - 2"
   ]
  },
  {
   "cell_type": "markdown",
   "metadata": {},
   "source": [
    "### Day 3 - 15.01.2025"
   ]
  },
  {
   "cell_type": "markdown",
   "metadata": {},
   "source": [
    "### Uninformed Search"
   ]
  },
  {
   "cell_type": "markdown",
   "metadata": {},
   "source": [
    "```\n",
    "search (initial state, problem) -> seq of actions:\n",
    "    # we r given a graph of sorts and we dont know abt it\n",
    "    # nad we build it as we progress\n",
    "    # the problem defines the actions and the resuolts of the actions\n",
    "    frontier_list : [inital state]\n",
    "    explored_list : set()\n",
    "    while true:\n",
    "        if forntier_list == []: then return failure\n",
    "        select a state from the frontier list\n",
    "        if the selected state is the goal state: then return success, the path(the seq of actions,)\n",
    "        expand on the state: call the child genreator functions \n",
    "        add all the children not in explored_list or frontier_list to the frontier_list\n",
    "        add the state to the explored_list\n",
    "```\n",
    "\n",
    "This is the search procedure in an abstract sense..."
   ]
  },
  {
   "cell_type": "markdown",
   "metadata": {},
   "source": [
    "Ex: \\\n",
    "initial_st = 1 \\\n",
    "i := [i+1,i+2] \\\n",
    "we wont store the graph in these cases rather we use the functions to move next"
   ]
  },
  {
   "cell_type": "markdown",
   "metadata": {},
   "source": [
    "### Strategies:\n",
    "- _Breadth First Search_ \\\n",
    "Say fl: 2 3 4 7 8 say 2:[10,11] \\\n",
    "if we pick from the first element and add the new ones at the end \\\n",
    "New fl in the abv case is fl: 3 4 7 8 10 11 \\\n",
    "but if we pick the last elem then we need to add new elems to the beginnig \\\n",
    "expand the shallowest unexplored state \\\n",
    "Now, time to see some props \\\n",
    "    - $Completeness$ - Yes if the branching factor ($b$) of the search space is finite \\\n",
    "    - $Optimality$ - If there were uiniform cost then it it is optimal \\\n",
    "    - $Space \\space Complexity$ - If there is a branching factor ($b$) and the ans is present is at depth ($d$) then the complexity is $O(b^d)$, essentially it is exponential\n",
    "    - $Time \\space Complexity$ - This is also exponential of time $O(b^{d+1})$\n",
    "\n",
    "- _Uiform Cost Search_ \\\n",
    "$g(n)$ : cost of reaching state, from inital state \\\n",
    "Implement fl : as a priority queue \\\n",
    "    - $Completeness$ - yes if cost $\\ge$ $\\epsilon$ > 0\n",
    "    - $Optimal$ - Yes cause expansion is based on $g(n)$\n",
    "    - $Space \\space Complexity$ - if c* is the optimal cost, then there'll be nodes of cost greater than or equal to c*, so it's kinda hard to say anything abt it\n",
    "\n",
    "- _Depth First Search_ \\\n",
    "Expand the deepest unexpanded state \\\n",
    "We exhaustively search a paths form an element and then move on to the next element of the same level \n",
    "    - $Completness$ - yes assuming that the search space is finite\n",
    "    - $Optimal$ - nope\n",
    "    - $Tme \\space Complexity$ - It'll be exponential in $m$ where $m$ is the depth of the tree viz. $O(b^m)$\n",
    "    - $Space \\space Complexity$ - Space Complexity is linear in $m$ i.e., $O(b*m)$, which is a good space complexity...\n"
   ]
  },
  {
   "cell_type": "markdown",
   "metadata": {},
   "source": [
    "### Day 4 - 16.01.2025"
   ]
  },
  {
   "cell_type": "markdown",
   "metadata": {},
   "source": [
    "We've discussed about some ideas of searching and we realised that dfs stores memory in linear time so how to use this?"
   ]
  },
  {
   "cell_type": "markdown",
   "metadata": {},
   "source": [
    "- _Depth Limited Search_ \\\n",
    "DFS until depth until depth $l$\n",
    "    - $Space \\space Complexity$ is linear\n",
    "    - $Completeness$ - No\n",
    "\n",
    "- _Iterative Deepening Search_ \\\n",
    "DLS from $l \\in (0, \\infty)$ \\ \n",
    "    - $Completeness$ - Yes\n",
    "    - $Optimality$ - Yes if uniform cost\n",
    "    - $Time Complexity$ - Exponential in $d$\n",
    "    - $Space Complexity$ - linear in $d$\n",
    "\n",
    "- _Iterative Lengthening Search_ \\\n",
    "$g(n)$ - least cost of reaching $n$ from initital state **(exact cost)** \\\n",
    "And this $g(n)$ wouold be a threshold instead of $l$"
   ]
  },
  {
   "cell_type": "markdown",
   "metadata": {},
   "source": [
    "All the search strategies are uninformed (and are called dumb)..."
   ]
  },
  {
   "cell_type": "markdown",
   "metadata": {},
   "source": [
    "### Informed (Heuristic) Search"
   ]
  },
  {
   "cell_type": "markdown",
   "metadata": {},
   "source": [
    "The heuristic encodes problem specific knowledge \\\n",
    "we use a $h(n)$ which is an estimated cost of reaching the lowest cost goal state from $n$ \\\n",
    "$h(n)=0$ if $n$ is a goal state... Note that all we need to estimate $h(n)$ is just the state $n$ \\\n",
    "$f(n)$ - evaluation function = $g(n)+h(n)$ - its the cost of reaching the goal state passing through the state n... \\\n",
    "Refer to `week1.ipynb`"
   ]
  },
  {
   "cell_type": "markdown",
   "metadata": {},
   "source": [
    "- _Greedy Best First Search_ \\\n",
    "$h(n)$ - priority queue \n",
    "    - $Completeness$ - Yes\n",
    "    - $Optimal$ - No\n",
    "    - $Time$ - Exponential in $m$\n",
    "    - $Space$ - Exponetial in $m$"
   ]
  },
  {
   "cell_type": "markdown",
   "metadata": {},
   "source": [
    "- _A* Search_ \\\n",
    "Here we combine $g(n)$ and $h(n)$ \\\n",
    "Avoid expanding paths which are already expensive \\\n",
    "Identical to Uniform Cost Search (Dijkstra's) \n",
    "    - $Completeness$ - Yes\n",
    "    - $Optimal$ - No, but then why A*?? \\\n",
    "    Well we need to use an admissible heuristic function to make it better\n"
   ]
  },
  {
   "cell_type": "markdown",
   "metadata": {},
   "source": [
    "_Admissible Heuristic_ \\\n",
    "$h$ is an admissible Heuristic iff \\\n",
    "$h(n) \\le h*(n)  \\space \\forall n$ \\\n",
    "$h$*$(n)$ - true cost to reach a goal state from $n$ \\\n",
    "$h(n) \\ge 0 \\space \\forall n$ \\\n",
    "Admissible heuristic gaurantees an optimal solution"
   ]
  },
  {
   "cell_type": "markdown",
   "metadata": {},
   "source": [
    "_Ex: 8 puzzle problem_ \\\n",
    "A valid heuristic can be the distance between coordinates of the empty tile \\\n",
    "No of misplaced tiles can be one \\\n",
    "total dist bw coordinates of every tiles \\\n",
    "Now, what we are interested is the optimality of A* search and admissible heuristic.... "
   ]
  },
  {
   "cell_type": "markdown",
   "metadata": {},
   "source": [
    "$Proof$  \\\n",
    "Let N be a goal state A* outputs... \\\n",
    "suppose $\\exists$ another goal state N'... \\\n",
    "$f(N)<f(N')$ \\\n",
    "This essentially means $g(N')<g(N)$ \\\n",
    "When A* ppicked N for expansion, either N' or an ancestor of N', N\" must have been in the frontier list, then $f(N)\\le f(N'')$ \\\n",
    "ie.,s $g(N)+h(N)[which \\space is \\space 0]\\le g(N'')+h(N'') \\rightarrow 1$ \\\n",
    "$g(N')= g(N'')+dist(N',N'')$ \\\n",
    "and, $h(N'') \\le h*(N'') = dist(N',N'')$ \\\n",
    "$g(N') \\ge g(N'')+h(N'') \\ge g(N) \\rightarrow 2$ \\\n",
    "Now this is a comtradiction"
   ]
  },
  {
   "cell_type": "markdown",
   "metadata": {},
   "source": [
    "- $Space Complexity$ - exponential\n",
    "- $Time Complexity$ -  \n",
    "    A* expands all n such that f(n) < c* \\\n",
    "    may expand n : f(n) = c* \\\n",
    "    never expands n : f(n) > c* \\\n",
    "    So its hard to explicitly characterise, so we can say it depends the error in h*\n"
   ]
  },
  {
   "cell_type": "markdown",
   "metadata": {},
   "source": [
    "we'll talk about monotonicity or consistency heurisitc...\n"
   ]
  }
 ],
 "metadata": {
  "kernelspec": {
   "display_name": "Python 3",
   "language": "python",
   "name": "python3"
  },
  "language_info": {
   "codemirror_mode": {
    "name": "ipython",
    "version": 3
   },
   "file_extension": ".py",
   "mimetype": "text/x-python",
   "name": "python",
   "nbconvert_exporter": "python",
   "pygments_lexer": "ipython3",
   "version": "3.12.6"
  }
 },
 "nbformat": 4,
 "nbformat_minor": 2
}
