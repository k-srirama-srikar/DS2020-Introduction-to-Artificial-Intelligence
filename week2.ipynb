{
 "cells": [
  {
   "cell_type": "markdown",
   "metadata": {},
   "source": [
    "# Week - 2"
   ]
  },
  {
   "cell_type": "markdown",
   "metadata": {},
   "source": [
    "## Day 3 - 15.01.2025"
   ]
  },
  {
   "cell_type": "markdown",
   "metadata": {},
   "source": [
    "### Uninformed Search"
   ]
  },
  {
   "cell_type": "markdown",
   "metadata": {},
   "source": [
    "```\n",
    "search (initial state, problem) -> seq of actions:\n",
    "    # we r given a graph of sorts and we dont know abt it\n",
    "    # nad we build it as we progress\n",
    "    # the problem defines the actions and the resuolts of the actions\n",
    "    frontier_list : [inital state]\n",
    "    explored_list : set()\n",
    "    while true:\n",
    "        if forntier_list == []: then return failure\n",
    "        select a state from the frontier list\n",
    "        if the selected state is the goal state: then return success, the path(the seq of actions,)\n",
    "        expand on the state: call the child genreator functions \n",
    "        add all the children not in explored_list or frontier_list to the frontier_list\n",
    "        add the state to the explored_list\n",
    "```\n",
    "\n",
    "This is the search procedure in an abstract sense..."
   ]
  },
  {
   "cell_type": "markdown",
   "metadata": {},
   "source": [
    "Ex: \\\n",
    "initial_st = 1 \\\n",
    "i := [i+1,i+2] \\\n",
    "we wont store the graph in these cases rather we use the functions to move next"
   ]
  },
  {
   "cell_type": "markdown",
   "metadata": {},
   "source": [
    "### Strategies:\n",
    "- _Breadth First Search_ \\\n",
    "Say fl: 2 3 4 7 8 say 2:[10,11] \\\n",
    "if we pick from the first element and add the new ones at the end \\\n",
    "New fl in the abv case is fl: 3 4 7 8 10 11 \\\n",
    "but if we pick the last elem then we need to add new elems to the beginnig \\\n",
    "expand the shallowest unexplored state \\\n",
    "Now, time to see some props \\\n",
    "    - $Completeness$ - Yes if the branching factor ($b$) of the search space is finite \\\n",
    "    - $Optimality$ - If there were uiniform cost then it it is optimal \\\n",
    "    - $Space \\space Complexity$ - If there is a branching factor ($b$) and the ans is present is at depth ($d$) then the complexity is $O(b^d)$, essentially it is exponential\n",
    "    - $Time \\space Complexity$ - This is also exponential of time $O(b^{d+1})$\n",
    "\n",
    "- _Uiform Cost Search_ \\\n",
    "$g(n)$ : cost of reaching state, from inital state \\\n",
    "Implement fl : as a priority queue \\\n",
    "    - $Completeness$ - yes if cost $\\ge$ $\\epsilon$ > 0\n",
    "    - $Optimal$ - Yes cause expansion is based on $g(n)$\n",
    "    - $Space \\space Complexity$ - if c* is the optimal cost, then there'll be nodes of cost greater than or equal to c*, so it's kinda hard to say anything abt it\n",
    "\n",
    "- _Depth First Search_ \\\n",
    "Expand the deepest unexpanded state \\\n",
    "We exhaustively search a paths form an element and then move on to the next element of the same level \n",
    "    - $Completness$ - yes assuming that the search space is finite\n",
    "    - $Optimal$ - nope\n",
    "    - $Tme \\space Complexity$ - It'll be exponential in $m$ where $m$ is the depth of the tree viz. $O(b^m)$\n",
    "    - $Space \\space Complexity$ - Space Complexity is linear in $m$ i.e., $O(b*m)$, which is a good space complexity...\n"
   ]
  },
  {
   "cell_type": "markdown",
   "metadata": {},
   "source": [
    "\n"
   ]
  },
  {
   "cell_type": "markdown",
   "metadata": {},
   "source": []
  }
 ],
 "metadata": {
  "kernelspec": {
   "display_name": "Python 3",
   "language": "python",
   "name": "python3"
  },
  "language_info": {
   "codemirror_mode": {
    "name": "ipython",
    "version": 3
   },
   "file_extension": ".py",
   "mimetype": "text/x-python",
   "name": "python",
   "nbconvert_exporter": "python",
   "pygments_lexer": "ipython3",
   "version": "3.12.6"
  }
 },
 "nbformat": 4,
 "nbformat_minor": 2
}
